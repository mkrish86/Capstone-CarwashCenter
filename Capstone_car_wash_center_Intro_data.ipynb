{
 "cells": [
  {
   "cell_type": "markdown",
   "metadata": {},
   "source": [
    "#### Capstone - # Capstone Project - Find the best location to open a car wash center (Week 2)\n",
    "### Applied Data Science Capstone by IBM/Coursera"
   ]
  },
  {
   "cell_type": "markdown",
   "metadata": {},
   "source": [
    "1. Business Problem \n",
    "2. Data \n",
    "3. Methodology\n",
    "4. Analysis\n",
    "5. Results and discussion \n",
    "6. Conclusion "
   ]
  },
  {
   "cell_type": "markdown",
   "metadata": {},
   "source": [
    "#### 1.Introduction: Business problem "
   ]
  },
  {
   "cell_type": "markdown",
   "metadata": {},
   "source": [
    "Starting a car wash business can be a interesting, and profitable business. With the right location, and top-notch service, you can draw in numerous customers who need their cars washed quickly, efficiently, and at a good price. Considering this, In this project we will find a best location to open a Car wash center. This project is targeted for the stackholders/Business people who wants to open a **Car wash center**.\n",
    " \n",
    "\n",
    " 1. **Find the existing car wash centers in the entire toronto city**. \n",
    " 2. **Find the boroughs which has dense population and less car wash centers**.\n",
    " 3. **Analyse the nearby venues of the existing car wash centers to find which is the better location for new car wash center**.\n",
    " "
   ]
  },
  {
   "cell_type": "markdown",
   "metadata": {},
   "source": [
    "#### 2.Data\n",
    "\n",
    "a) Toronto city neighborhood information is scraped from this link\n",
    " https://en.wikipedia.org/wiki/List_of_postal_codes_of_Canada:_M\n",
    " \n",
    "b) The boroughs which has more **population** is gathered from https://en.wikipedia.org/wiki/Demographics_of_Toronto.\n",
    "\n",
    "c) Geographical information is required to explore the neighborhoods. This is information taken from **Geospatial_Coordinates.csv**\n",
    "\n",
    "d) Using Foursquare API calls to get the nearest venues**(Car wash center)** of neighborhoods."
   ]
  },
  {
   "cell_type": "markdown",
   "metadata": {},
   "source": [
    "#### Install the required packages "
   ]
  },
  {
   "cell_type": "code",
   "execution_count": 128,
   "metadata": {},
   "outputs": [
    {
     "name": "stdout",
     "output_type": "stream",
     "text": [
      "Requirement already satisfied: beautifulsoup4 in /home/jupyterlab/conda/envs/python/lib/python3.6/site-packages (4.8.2)\n",
      "Requirement already satisfied: soupsieve>=1.2 in /home/jupyterlab/conda/envs/python/lib/python3.6/site-packages (from beautifulsoup4) (1.9.5)\n"
     ]
    }
   ],
   "source": [
    "!pip install beautifulsoup4"
   ]
  },
  {
   "cell_type": "markdown",
   "metadata": {},
   "source": [
    "#### Import the packages "
   ]
  },
  {
   "cell_type": "code",
   "execution_count": 129,
   "metadata": {},
   "outputs": [],
   "source": [
    "import requests               # To get the web page (response)\n",
    "import pandas as pd           # For Data analysis\n",
    "import matplotlib.pyplot as plt\n",
    "from bs4 import BeautifulSoup # For Web scraping\n",
    "from pandas.io.json import json_normalize #to convert json format to data frame"
   ]
  },
  {
   "cell_type": "markdown",
   "metadata": {},
   "source": [
    "#### Web scrapping, Data wrangling "
   ]
  },
  {
   "cell_type": "markdown",
   "metadata": {},
   "source": [
    "##### Get the neighborhoods of toronto "
   ]
  },
  {
   "cell_type": "code",
   "execution_count": 130,
   "metadata": {},
   "outputs": [],
   "source": [
    "def get_toronto_neighborhoods(): \n",
    "    url = \"https://en.wikipedia.org/wiki/List_of_postal_codes_of_Canada:_M\"\n",
    "    page = requests.get(url)\n",
    "    soup = BeautifulSoup(page.text, 'html.parser')\n",
    "    neighborhoods = soup.find('table', attrs={'class': 'wikitable sortable'})\n",
    "    \n",
    "    rows = neighborhoods.find_all('tr')\n",
    "    data = []\n",
    "\n",
    "    cols = rows[0].find_all('th')\n",
    "    headers = [ele.text.strip() for ele in cols]\n",
    "\n",
    "    for row in rows[1:]:\n",
    "        cols = row.find_all('td')\n",
    "        cols = [ele.text.strip() for ele in cols]\n",
    "        data.append([ele for ele in cols if ele])\n",
    "        \n",
    "    neighborhoods = pd.DataFrame(data, columns=headers)   \n",
    "    neighborhoods['Postcode'] = neighborhoods['Postcode'].astype(str)\n",
    "    print(neighborhoods.dtypes)\n",
    "    neighborhoods = cleanNeighborhoods(neighborhoods)\n",
    "    neighborhoods = mergeAllDuplicatePostalCodes(neighborhoods)\n",
    "    return neighborhoods"
   ]
  },
  {
   "cell_type": "markdown",
   "metadata": {},
   "source": [
    "#### Clean the neighbourhoods. \n",
    "##### 1.Remove the boroughs which have value \"Not assigned\".\n",
    "##### 2.Remove the neighbourhoods for which boroughs are \"Not assigned\"."
   ]
  },
  {
   "cell_type": "code",
   "execution_count": 131,
   "metadata": {},
   "outputs": [],
   "source": [
    "#Clean the neighborhood data which was received from the web page\n",
    "def cleanNeighborhoods(neighborhoods):\n",
    "    neighborhoods = neighborhoods[neighborhoods['Borough']!=\"Not assigned\"].reset_index(drop=True)\n",
    "    for ind in range(len(neighborhoods)):\n",
    "        if (neighborhoods.loc[ind, \"Neighbourhood\"] == \"Not assigned\"):\n",
    "            neighborhoods.at[ind, 'Neighbourhood'] = neighborhoods.loc[ind, \"Borough\"] \n",
    "            \n",
    "    return neighborhoods"
   ]
  },
  {
   "cell_type": "markdown",
   "metadata": {},
   "source": [
    "#### Merge the boroughs which has same postal code by combining the neighbourhoods "
   ]
  },
  {
   "cell_type": "code",
   "execution_count": 1,
   "metadata": {},
   "outputs": [],
   "source": [
    "#merge all duplicate postal code, because the lotitude and longitude values are same for those neighborhoods\n",
    "def mergeAllDuplicatePostalCodes(neighborhoods):\n",
    "    dict = {} #postal code, neighborhood list\n",
    "    \n",
    "    #Store the neighborhoods of unique postal code in dictionary\n",
    "    for ind in range(len(neighborhoods)):\n",
    "        if (neighborhoods.loc[ind, \"Postcode\"] not in dict.keys()):\n",
    "            dict[neighborhoods.loc[ind, \"Postcode\"]] = []\n",
    "        dict[neighborhoods.loc[ind, \"Postcode\"]].append(neighborhoods.loc[ind, \"Neighbourhood\"])\n",
    "    \n",
    "    #Drop the duplicate postal code rows and keep the first row in the duplicates\n",
    "    neighborhoods.drop_duplicates(subset=\"Postcode\", keep='first', inplace = True)\n",
    "    neighborhoods.reset_index(inplace=True, drop=True)\n",
    "\n",
    "    for k, v in dict.items() :\n",
    "        combined_nws = ','.join(v)\n",
    "        ind = neighborhoods.index[neighborhoods['Postcode']==k]\n",
    "        neighborhoods.at[ind, 'Neighbourhood'] = combined_nws # needs to be replaced with iat/at \n",
    "  \n",
    "    return neighborhoods"
   ]
  },
  {
   "cell_type": "code",
   "execution_count": 133,
   "metadata": {},
   "outputs": [
    {
     "name": "stdout",
     "output_type": "stream",
     "text": [
      "Postcode         object\n",
      "Borough          object\n",
      "Neighbourhood    object\n",
      "dtype: object\n"
     ]
    }
   ],
   "source": [
    "neighborhoods = get_toronto_neighborhoods()"
   ]
  },
  {
   "cell_type": "markdown",
   "metadata": {},
   "source": [
    "#### Read Geospatial_Coordinates.csv\n",
    "##### 1. Read the latitude and longitude information from the Geospatial_Coordinates.csv\n",
    "##### 2. Add the latitude and longitude information to the neighbourhoods data frame."
   ]
  },
  {
   "cell_type": "code",
   "execution_count": 134,
   "metadata": {},
   "outputs": [],
   "source": [
    "def addLongLatToNeighborhoods(neighborhoods):\n",
    "    geo_df = pd.read_csv(\"Geospatial_Coordinates.csv\")\n",
    "    longlat_dict = {}\n",
    "    lat=[]\n",
    "    long=[]\n",
    "    for code, lt, ln in zip(geo_df['Postal Code'], geo_df['Latitude'], geo_df['Longitude']):\n",
    "        longlat_dict[code] = [lt,ln]\n",
    "\n",
    "    for code in neighborhoods['Postcode']:\n",
    "        lonlat = longlat_dict[code]\n",
    "        lat.append(lonlat[0])\n",
    "        long.append(lonlat[1])\n",
    "    neighborhoods['Latitude'] = lat \n",
    "    neighborhoods['Longitude'] = long\n",
    "    return neighborhoods"
   ]
  },
  {
   "cell_type": "code",
   "execution_count": 135,
   "metadata": {},
   "outputs": [],
   "source": [
    "neighborhoods = addLongLatToNeighborhoods(neighborhoods)"
   ]
  },
  {
   "cell_type": "markdown",
   "metadata": {},
   "source": [
    "### View the existing car wash centers using folium map "
   ]
  },
  {
   "cell_type": "markdown",
   "metadata": {},
   "source": [
    "#### Foursquare credentials "
   ]
  },
  {
   "cell_type": "code",
   "execution_count": 136,
   "metadata": {},
   "outputs": [],
   "source": [
    "CLIENT_ID = 'HQFIE2LGCMTESBTMPHN23QEPWMUYLRZDZ3AMZD4FWF5Z3QJA' # your Foursquare ID\n",
    "CLIENT_SECRET = 'FAYQ2B50PC42VERLNA1MDG0HWDKMKRPC4ZAVJREEBDD13HEM' # your Foursquare Secret\n",
    "VERSION = '20191210' # Foursquare API version"
   ]
  },
  {
   "cell_type": "markdown",
   "metadata": {},
   "source": [
    "#### Get the existing **Car wash centers** by neighbourhoods"
   ]
  },
  {
   "cell_type": "code",
   "execution_count": 137,
   "metadata": {},
   "outputs": [],
   "source": [
    "def get_existing_carwash_centers_by_search(neighborhoods):\n",
    "    radius = 10000 #1 km\n",
    "    limit =100 \n",
    "    car_wash = '4f04ae1f2fb6e1c99f3db0ba'\n",
    "    \n",
    "    venues_list =[]\n",
    "    for borough, name, lat, long in zip(neighborhoods['Borough'],neighborhoods['Neighbourhood'], neighborhoods['Latitude'], neighborhoods['Longitude']):\n",
    "        url = 'https://api.foursquare.com/v2/venues/search?client_id={}&client_secret={}&ll={},{}&v={}&limit={}&radius={}&categoryId={}'.format(\n",
    "                CLIENT_ID,CLIENT_SECRET, lat, long, VERSION, limit, radius, car_wash)\n",
    "        \n",
    "        response = requests.get(url).json()\n",
    "        response = response['response']['venues']\n",
    "        \n",
    "        venues_list.append([(borough,name, venue['name'], \n",
    "                          venue['id'],\n",
    "                          venue['categories'][0]['name'], \n",
    "                          venue['location']['lat'],\n",
    "                          venue['location']['lng']) for venue in response])\n",
    "    grocery_stores = pd.DataFrame([item for venue_list in venues_list for item in venue_list])\n",
    "    grocery_stores.columns = ['Borough', 'Neighbourhood', 'Venue', 'Venue_id','Category', 'Location.lat', 'Location.lng']\n",
    "    return grocery_stores"
   ]
  },
  {
   "cell_type": "markdown",
   "metadata": {},
   "source": [
    "#### Get the near by venues of each car wash center of toronto city, And analyse where exactly these car centers are located and find the commonality of them. "
   ]
  },
  {
   "cell_type": "code",
   "execution_count": null,
   "metadata": {},
   "outputs": [],
   "source": [
    "def getNearbyVenues(vid, names, latitudes, longitudes, radius=500):\n",
    "    venues_list=[]\n",
    "    for vid,name, lat, lng in zip(vid, names, latitudes, longitudes):\n",
    "        # create the API request URL\n",
    "        url = 'https://api.foursquare.com/v2/venues/explore?&client_id={}&client_secret={}&v={}&ll={},{}&radius={}&limit={}'.format(\n",
    "            CLIENT_ID, \n",
    "            CLIENT_SECRET, \n",
    "            VERSION, \n",
    "            lat, \n",
    "            lng, \n",
    "            radius, \n",
    "            30)\n",
    "            \n",
    "        # make the GET request\n",
    "        results = requests.get(url).json()[\"response\"]['groups'][0]['items']\n",
    "        # return only relevant information for each nearby venue\n",
    "        venues_list.append([(vid,\n",
    "            name, \n",
    "            lat, \n",
    "            lng, \n",
    "            v['venue']['name'], \n",
    "            v['venue']['categories'][0]['name']) for v in results])\n",
    "\n",
    "    nearby_venues = pd.DataFrame([item for venue_list in venues_list for item in venue_list])\n",
    "    nearby_venues.columns = ['Venue_id', \n",
    "                             'Venue',\n",
    "                             'Venue Latitude', \n",
    "                             'Venue Longitude', \n",
    "                             'Nearby Venue',\n",
    "                             'Nearby Venue Category']\n",
    "    \n",
    "    return(nearby_venues)"
   ]
  },
  {
   "cell_type": "code",
   "execution_count": 138,
   "metadata": {},
   "outputs": [
    {
     "data": {
      "text/html": [
       "<div>\n",
       "<style scoped>\n",
       "    .dataframe tbody tr th:only-of-type {\n",
       "        vertical-align: middle;\n",
       "    }\n",
       "\n",
       "    .dataframe tbody tr th {\n",
       "        vertical-align: top;\n",
       "    }\n",
       "\n",
       "    .dataframe thead th {\n",
       "        text-align: right;\n",
       "    }\n",
       "</style>\n",
       "<table border=\"1\" class=\"dataframe\">\n",
       "  <thead>\n",
       "    <tr style=\"text-align: right;\">\n",
       "      <th></th>\n",
       "      <th>Borough</th>\n",
       "      <th>Neighbourhood</th>\n",
       "      <th>Venue</th>\n",
       "      <th>Venue_id</th>\n",
       "      <th>Category</th>\n",
       "      <th>Location.lat</th>\n",
       "      <th>Location.lng</th>\n",
       "    </tr>\n",
       "  </thead>\n",
       "  <tbody>\n",
       "    <tr>\n",
       "      <th>0</th>\n",
       "      <td>North York</td>\n",
       "      <td>Parkwoods</td>\n",
       "      <td>Petro-Canada</td>\n",
       "      <td>4c361e9118e72d7fca4714f5</td>\n",
       "      <td>Gas Station</td>\n",
       "      <td>43.757950</td>\n",
       "      <td>-79.315187</td>\n",
       "    </tr>\n",
       "    <tr>\n",
       "      <th>1</th>\n",
       "      <td>North York</td>\n",
       "      <td>Parkwoods</td>\n",
       "      <td>Petro-Canada</td>\n",
       "      <td>4b940518f964a520dc6134e3</td>\n",
       "      <td>Gas Station</td>\n",
       "      <td>43.800817</td>\n",
       "      <td>-79.296738</td>\n",
       "    </tr>\n",
       "    <tr>\n",
       "      <th>2</th>\n",
       "      <td>North York</td>\n",
       "      <td>Parkwoods</td>\n",
       "      <td>Canadian Tire Gas+</td>\n",
       "      <td>4db48b6f4df05e5aaae21a1f</td>\n",
       "      <td>Gas Station</td>\n",
       "      <td>43.770526</td>\n",
       "      <td>-79.373126</td>\n",
       "    </tr>\n",
       "    <tr>\n",
       "      <th>3</th>\n",
       "      <td>North York</td>\n",
       "      <td>Parkwoods</td>\n",
       "      <td>Petro-Canada</td>\n",
       "      <td>4d3f1dc83ec9a35df6916081</td>\n",
       "      <td>Gas Station</td>\n",
       "      <td>43.775024</td>\n",
       "      <td>-79.333001</td>\n",
       "    </tr>\n",
       "    <tr>\n",
       "      <th>4</th>\n",
       "      <td>North York</td>\n",
       "      <td>Parkwoods</td>\n",
       "      <td>Petro-Canada</td>\n",
       "      <td>4c1aab3ee9c4ef3bad7f45aa</td>\n",
       "      <td>Gas Station</td>\n",
       "      <td>43.819847</td>\n",
       "      <td>-79.326214</td>\n",
       "    </tr>\n",
       "    <tr>\n",
       "      <th>...</th>\n",
       "      <td>...</td>\n",
       "      <td>...</td>\n",
       "      <td>...</td>\n",
       "      <td>...</td>\n",
       "      <td>...</td>\n",
       "      <td>...</td>\n",
       "      <td>...</td>\n",
       "    </tr>\n",
       "    <tr>\n",
       "      <th>4391</th>\n",
       "      <td>Etobicoke</td>\n",
       "      <td>Kingsway Park South West,Mimico NW,The Queensw...</td>\n",
       "      <td>Petro Canada Car Wash</td>\n",
       "      <td>58cc148514fb41604232c278</td>\n",
       "      <td>Car Wash</td>\n",
       "      <td>43.616960</td>\n",
       "      <td>-79.546160</td>\n",
       "    </tr>\n",
       "    <tr>\n",
       "      <th>4392</th>\n",
       "      <td>Etobicoke</td>\n",
       "      <td>Kingsway Park South West,Mimico NW,The Queensw...</td>\n",
       "      <td>Weston Coin Car Wash</td>\n",
       "      <td>4becab5a8bbcc9283ca98cb1</td>\n",
       "      <td>Car Wash</td>\n",
       "      <td>43.708600</td>\n",
       "      <td>-79.534276</td>\n",
       "    </tr>\n",
       "    <tr>\n",
       "      <th>4393</th>\n",
       "      <td>Etobicoke</td>\n",
       "      <td>Kingsway Park South West,Mimico NW,The Queensw...</td>\n",
       "      <td>Original Six Car Wash</td>\n",
       "      <td>4d56ddd6fb65236a88390bb4</td>\n",
       "      <td>Car Wash</td>\n",
       "      <td>43.603296</td>\n",
       "      <td>-79.518927</td>\n",
       "    </tr>\n",
       "    <tr>\n",
       "      <th>4394</th>\n",
       "      <td>Etobicoke</td>\n",
       "      <td>Kingsway Park South West,Mimico NW,The Queensw...</td>\n",
       "      <td>Popular Car Wash &amp; Detailing - FREE VACUUMS</td>\n",
       "      <td>4e2ad147d22d3f83c887b668</td>\n",
       "      <td>Car Wash</td>\n",
       "      <td>43.619797</td>\n",
       "      <td>-79.562225</td>\n",
       "    </tr>\n",
       "    <tr>\n",
       "      <th>4395</th>\n",
       "      <td>Etobicoke</td>\n",
       "      <td>Kingsway Park South West,Mimico NW,The Queensw...</td>\n",
       "      <td>Martino Bros. Car Wash</td>\n",
       "      <td>535279d6498eef77e3b94f72</td>\n",
       "      <td>Car Wash</td>\n",
       "      <td>43.665600</td>\n",
       "      <td>-79.483800</td>\n",
       "    </tr>\n",
       "  </tbody>\n",
       "</table>\n",
       "<p>4396 rows × 7 columns</p>\n",
       "</div>"
      ],
      "text/plain": [
       "         Borough                                      Neighbourhood  \\\n",
       "0     North York                                          Parkwoods   \n",
       "1     North York                                          Parkwoods   \n",
       "2     North York                                          Parkwoods   \n",
       "3     North York                                          Parkwoods   \n",
       "4     North York                                          Parkwoods   \n",
       "...          ...                                                ...   \n",
       "4391   Etobicoke  Kingsway Park South West,Mimico NW,The Queensw...   \n",
       "4392   Etobicoke  Kingsway Park South West,Mimico NW,The Queensw...   \n",
       "4393   Etobicoke  Kingsway Park South West,Mimico NW,The Queensw...   \n",
       "4394   Etobicoke  Kingsway Park South West,Mimico NW,The Queensw...   \n",
       "4395   Etobicoke  Kingsway Park South West,Mimico NW,The Queensw...   \n",
       "\n",
       "                                            Venue                  Venue_id  \\\n",
       "0                                    Petro-Canada  4c361e9118e72d7fca4714f5   \n",
       "1                                    Petro-Canada  4b940518f964a520dc6134e3   \n",
       "2                              Canadian Tire Gas+  4db48b6f4df05e5aaae21a1f   \n",
       "3                                    Petro-Canada  4d3f1dc83ec9a35df6916081   \n",
       "4                                    Petro-Canada  4c1aab3ee9c4ef3bad7f45aa   \n",
       "...                                           ...                       ...   \n",
       "4391                        Petro Canada Car Wash  58cc148514fb41604232c278   \n",
       "4392                         Weston Coin Car Wash  4becab5a8bbcc9283ca98cb1   \n",
       "4393                        Original Six Car Wash  4d56ddd6fb65236a88390bb4   \n",
       "4394  Popular Car Wash & Detailing - FREE VACUUMS  4e2ad147d22d3f83c887b668   \n",
       "4395                       Martino Bros. Car Wash  535279d6498eef77e3b94f72   \n",
       "\n",
       "         Category  Location.lat  Location.lng  \n",
       "0     Gas Station     43.757950    -79.315187  \n",
       "1     Gas Station     43.800817    -79.296738  \n",
       "2     Gas Station     43.770526    -79.373126  \n",
       "3     Gas Station     43.775024    -79.333001  \n",
       "4     Gas Station     43.819847    -79.326214  \n",
       "...           ...           ...           ...  \n",
       "4391     Car Wash     43.616960    -79.546160  \n",
       "4392     Car Wash     43.708600    -79.534276  \n",
       "4393     Car Wash     43.603296    -79.518927  \n",
       "4394     Car Wash     43.619797    -79.562225  \n",
       "4395     Car Wash     43.665600    -79.483800  \n",
       "\n",
       "[4396 rows x 7 columns]"
      ]
     },
     "execution_count": 138,
     "metadata": {},
     "output_type": "execute_result"
    }
   ],
   "source": [
    "exsiting_carwash_centers = get_existing_grocery_stores_by_search(neighborhoods) \n",
    "exsiting_carwash_centers"
   ]
  },
  {
   "cell_type": "code",
   "execution_count": 139,
   "metadata": {},
   "outputs": [
    {
     "data": {
      "text/plain": [
       "(4396, 7)"
      ]
     },
     "execution_count": 139,
     "metadata": {},
     "output_type": "execute_result"
    }
   ],
   "source": [
    "exsiting_carwash_centers.shape"
   ]
  },
  {
   "cell_type": "markdown",
   "metadata": {},
   "source": [
    "#### Remove the duplicates from the existing car wash centers data frame and create the unique car wash centers data frame. "
   ]
  },
  {
   "cell_type": "code",
   "execution_count": 140,
   "metadata": {},
   "outputs": [
    {
     "data": {
      "text/html": [
       "<div>\n",
       "<style scoped>\n",
       "    .dataframe tbody tr th:only-of-type {\n",
       "        vertical-align: middle;\n",
       "    }\n",
       "\n",
       "    .dataframe tbody tr th {\n",
       "        vertical-align: top;\n",
       "    }\n",
       "\n",
       "    .dataframe thead th {\n",
       "        text-align: right;\n",
       "    }\n",
       "</style>\n",
       "<table border=\"1\" class=\"dataframe\">\n",
       "  <thead>\n",
       "    <tr style=\"text-align: right;\">\n",
       "      <th></th>\n",
       "      <th>Borough</th>\n",
       "      <th>Neighbourhood</th>\n",
       "      <th>Venue</th>\n",
       "      <th>Venue_id</th>\n",
       "      <th>Category</th>\n",
       "      <th>Location.lat</th>\n",
       "      <th>Location.lng</th>\n",
       "    </tr>\n",
       "  </thead>\n",
       "  <tbody>\n",
       "    <tr>\n",
       "      <th>0</th>\n",
       "      <td>North York</td>\n",
       "      <td>Parkwoods</td>\n",
       "      <td>Petro-Canada</td>\n",
       "      <td>4c361e9118e72d7fca4714f5</td>\n",
       "      <td>Gas Station</td>\n",
       "      <td>43.757950</td>\n",
       "      <td>-79.315187</td>\n",
       "    </tr>\n",
       "    <tr>\n",
       "      <th>1</th>\n",
       "      <td>North York</td>\n",
       "      <td>Parkwoods</td>\n",
       "      <td>Petro-Canada</td>\n",
       "      <td>4b940518f964a520dc6134e3</td>\n",
       "      <td>Gas Station</td>\n",
       "      <td>43.800817</td>\n",
       "      <td>-79.296738</td>\n",
       "    </tr>\n",
       "    <tr>\n",
       "      <th>2</th>\n",
       "      <td>North York</td>\n",
       "      <td>Parkwoods</td>\n",
       "      <td>Canadian Tire Gas+</td>\n",
       "      <td>4db48b6f4df05e5aaae21a1f</td>\n",
       "      <td>Gas Station</td>\n",
       "      <td>43.770526</td>\n",
       "      <td>-79.373126</td>\n",
       "    </tr>\n",
       "    <tr>\n",
       "      <th>3</th>\n",
       "      <td>North York</td>\n",
       "      <td>Parkwoods</td>\n",
       "      <td>Petro-Canada</td>\n",
       "      <td>4d3f1dc83ec9a35df6916081</td>\n",
       "      <td>Gas Station</td>\n",
       "      <td>43.775024</td>\n",
       "      <td>-79.333001</td>\n",
       "    </tr>\n",
       "    <tr>\n",
       "      <th>4</th>\n",
       "      <td>North York</td>\n",
       "      <td>Parkwoods</td>\n",
       "      <td>Petro-Canada</td>\n",
       "      <td>4c1aab3ee9c4ef3bad7f45aa</td>\n",
       "      <td>Gas Station</td>\n",
       "      <td>43.819847</td>\n",
       "      <td>-79.326214</td>\n",
       "    </tr>\n",
       "    <tr>\n",
       "      <th>...</th>\n",
       "      <td>...</td>\n",
       "      <td>...</td>\n",
       "      <td>...</td>\n",
       "      <td>...</td>\n",
       "      <td>...</td>\n",
       "      <td>...</td>\n",
       "      <td>...</td>\n",
       "    </tr>\n",
       "    <tr>\n",
       "      <th>3828</th>\n",
       "      <td>Etobicoke</td>\n",
       "      <td>Albion Gardens,Beaumond Heights,Humbergate,Jam...</td>\n",
       "      <td>In N Out Car Wash</td>\n",
       "      <td>4c0bb886340720a160798893</td>\n",
       "      <td>Car Wash</td>\n",
       "      <td>43.754805</td>\n",
       "      <td>-79.709485</td>\n",
       "    </tr>\n",
       "    <tr>\n",
       "      <th>3974</th>\n",
       "      <td>Etobicoke</td>\n",
       "      <td>Alderwood,Long Branch</td>\n",
       "      <td>Petro-Pass Truck Stop</td>\n",
       "      <td>57f535b5498e072826b23699</td>\n",
       "      <td>Gas Station</td>\n",
       "      <td>43.660486</td>\n",
       "      <td>-79.646277</td>\n",
       "    </tr>\n",
       "    <tr>\n",
       "      <th>3988</th>\n",
       "      <td>Etobicoke</td>\n",
       "      <td>Alderwood,Long Branch</td>\n",
       "      <td>Ovation Car Wash</td>\n",
       "      <td>4fa7423fe4b0e7038ca31501</td>\n",
       "      <td>Car Wash</td>\n",
       "      <td>43.587890</td>\n",
       "      <td>-79.641162</td>\n",
       "    </tr>\n",
       "    <tr>\n",
       "      <th>4006</th>\n",
       "      <td>Etobicoke</td>\n",
       "      <td>Alderwood,Long Branch</td>\n",
       "      <td>Shell Car Wash</td>\n",
       "      <td>4f391b03e4b02a70e2f845cc</td>\n",
       "      <td>Car Wash</td>\n",
       "      <td>43.629402</td>\n",
       "      <td>-79.668731</td>\n",
       "    </tr>\n",
       "    <tr>\n",
       "      <th>4089</th>\n",
       "      <td>Scarborough</td>\n",
       "      <td>Upper Rouge</td>\n",
       "      <td>EE Auto Group</td>\n",
       "      <td>518facbc498e91f3bf6d3d0a</td>\n",
       "      <td>Car Wash</td>\n",
       "      <td>43.877058</td>\n",
       "      <td>-79.274931</td>\n",
       "    </tr>\n",
       "  </tbody>\n",
       "</table>\n",
       "<p>190 rows × 7 columns</p>\n",
       "</div>"
      ],
      "text/plain": [
       "          Borough                                      Neighbourhood  \\\n",
       "0      North York                                          Parkwoods   \n",
       "1      North York                                          Parkwoods   \n",
       "2      North York                                          Parkwoods   \n",
       "3      North York                                          Parkwoods   \n",
       "4      North York                                          Parkwoods   \n",
       "...           ...                                                ...   \n",
       "3828    Etobicoke  Albion Gardens,Beaumond Heights,Humbergate,Jam...   \n",
       "3974    Etobicoke                              Alderwood,Long Branch   \n",
       "3988    Etobicoke                              Alderwood,Long Branch   \n",
       "4006    Etobicoke                              Alderwood,Long Branch   \n",
       "4089  Scarborough                                        Upper Rouge   \n",
       "\n",
       "                      Venue                  Venue_id     Category  \\\n",
       "0              Petro-Canada  4c361e9118e72d7fca4714f5  Gas Station   \n",
       "1              Petro-Canada  4b940518f964a520dc6134e3  Gas Station   \n",
       "2        Canadian Tire Gas+  4db48b6f4df05e5aaae21a1f  Gas Station   \n",
       "3              Petro-Canada  4d3f1dc83ec9a35df6916081  Gas Station   \n",
       "4              Petro-Canada  4c1aab3ee9c4ef3bad7f45aa  Gas Station   \n",
       "...                     ...                       ...          ...   \n",
       "3828      In N Out Car Wash  4c0bb886340720a160798893     Car Wash   \n",
       "3974  Petro-Pass Truck Stop  57f535b5498e072826b23699  Gas Station   \n",
       "3988       Ovation Car Wash  4fa7423fe4b0e7038ca31501     Car Wash   \n",
       "4006         Shell Car Wash  4f391b03e4b02a70e2f845cc     Car Wash   \n",
       "4089          EE Auto Group  518facbc498e91f3bf6d3d0a     Car Wash   \n",
       "\n",
       "      Location.lat  Location.lng  \n",
       "0        43.757950    -79.315187  \n",
       "1        43.800817    -79.296738  \n",
       "2        43.770526    -79.373126  \n",
       "3        43.775024    -79.333001  \n",
       "4        43.819847    -79.326214  \n",
       "...            ...           ...  \n",
       "3828     43.754805    -79.709485  \n",
       "3974     43.660486    -79.646277  \n",
       "3988     43.587890    -79.641162  \n",
       "4006     43.629402    -79.668731  \n",
       "4089     43.877058    -79.274931  \n",
       "\n",
       "[190 rows x 7 columns]"
      ]
     },
     "execution_count": 140,
     "metadata": {},
     "output_type": "execute_result"
    }
   ],
   "source": [
    "exsiting_carwash_centers_unqiue = exsiting_carwash_centers.drop_duplicates(subset=['Venue_id'], keep ='first')\n",
    "exsiting_carwash_centers_unqiue.reset_index(drop=True)\n",
    "exsiting_carwash_centers_unqiue"
   ]
  },
  {
   "cell_type": "code",
   "execution_count": null,
   "metadata": {},
   "outputs": [],
   "source": []
  }
 ],
 "metadata": {
  "kernelspec": {
   "display_name": "Python",
   "language": "python",
   "name": "conda-env-python-py"
  },
  "language_info": {
   "codemirror_mode": {
    "name": "ipython",
    "version": 3
   },
   "file_extension": ".py",
   "mimetype": "text/x-python",
   "name": "python",
   "nbconvert_exporter": "python",
   "pygments_lexer": "ipython3",
   "version": "3.6.7"
  }
 },
 "nbformat": 4,
 "nbformat_minor": 4
}
